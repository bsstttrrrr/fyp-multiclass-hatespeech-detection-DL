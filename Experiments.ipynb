{
  "cells": [
    {
      "cell_type": "markdown",
      "metadata": {
        "id": "view-in-github",
        "colab_type": "text"
      },
      "source": [
        "<a href=\"https://colab.research.google.com/github/bsstttrrrr/fyp-multiclass-hatespeech-detection-DL/blob/main/Experiments.ipynb\" target=\"_parent\"><img src=\"https://colab.research.google.com/assets/colab-badge.svg\" alt=\"Open In Colab\"/></a>"
      ]
    },
    {
      "cell_type": "code",
      "execution_count": null,
      "metadata": {
        "id": "CU_Qbl6ml_US"
      },
      "outputs": [],
      "source": [
        "!pip install transformers"
      ]
    },
    {
      "cell_type": "code",
      "execution_count": 2,
      "metadata": {
        "id": "_gMupfGum47M",
        "colab": {
          "base_uri": "https://localhost:8080/"
        },
        "outputId": "d7f33616-0277-47ed-ec07-9ee609775674"
      },
      "outputs": [
        {
          "output_type": "stream",
          "name": "stdout",
          "text": [
            "\u001b[?25l   \u001b[90m━━━━━━━━━━━━━━━━━━━━━━━━━━━━━━━━━━━━━━━━\u001b[0m \u001b[32m0.0/129.1 kB\u001b[0m \u001b[31m?\u001b[0m eta \u001b[36m-:--:--\u001b[0m\r\u001b[2K   \u001b[90m━━━━━━━━━━━━━━━━━━━━━━━━━━━━━━━━━━━━━━━━\u001b[0m \u001b[32m129.1/129.1 kB\u001b[0m \u001b[31m6.9 MB/s\u001b[0m eta \u001b[36m0:00:00\u001b[0m\n",
            "\u001b[?25h"
          ]
        }
      ],
      "source": [
        "!pip install -q keras-tuner"
      ]
    },
    {
      "cell_type": "code",
      "execution_count": 3,
      "metadata": {
        "id": "7WXSWE7YmPNi",
        "colab": {
          "base_uri": "https://localhost:8080/"
        },
        "outputId": "9189caf8-44be-4c06-8472-587aafb99c93"
      },
      "outputs": [
        {
          "output_type": "stream",
          "name": "stderr",
          "text": [
            "[nltk_data] Downloading package stopwords to /root/nltk_data...\n",
            "[nltk_data]   Unzipping corpora/stopwords.zip.\n"
          ]
        }
      ],
      "source": [
        "import pipeline\n",
        "import importlib\n",
        "import pandas as pd\n",
        "from tensorflow.keras import backend as K\n",
        "import gc, torch"
      ]
    },
    {
      "cell_type": "markdown",
      "source": [
        "# Experiment 1"
      ],
      "metadata": {
        "id": "nSnNdIdrc0Vy"
      }
    },
    {
      "cell_type": "code",
      "execution_count": 6,
      "metadata": {
        "colab": {
          "base_uri": "https://localhost:8080/"
        },
        "id": "cxKw0jDImeAF",
        "outputId": "9328fc39-c75c-4cca-86e5-8b6ce37bead3"
      },
      "outputs": [
        {
          "output_type": "stream",
          "name": "stderr",
          "text": [
            "[nltk_data] Downloading package stopwords to /root/nltk_data...\n",
            "[nltk_data]   Package stopwords is already up-to-date!\n"
          ]
        },
        {
          "output_type": "stream",
          "name": "stdout",
          "text": [
            "   Unnamed: 0  count  hate_speech  offensive_language  neither  class  \\\n",
            "0           0      3            0                   0        3      2   \n",
            "1           1      3            0                   3        0      1   \n",
            "2           2      3            0                   3        0      1   \n",
            "3           3      3            0                   2        1      1   \n",
            "4           4      6            0                   6        0      1   \n",
            "\n",
            "                                               tweet  \\\n",
            "0  !!! RT @mayasolovely: As a woman you shouldn't...   \n",
            "1  !!!!! RT @mleew17: boy dats cold...tyga dwn ba...   \n",
            "2  !!!!!!! RT @UrKindOfBrand Dawg!!!! RT @80sbaby...   \n",
            "3  !!!!!!!!! RT @C_G_Anderson: @viva_based she lo...   \n",
            "4  !!!!!!!!!!!!! RT @ShenikaRoberts: The shit you...   \n",
            "\n",
            "                                   processed_tweets  \n",
            "0  woman complain clean house man always take trash  \n",
            "1    boy dat cold tyga dwn bad cuffin dat hoe place  \n",
            "2       dawg ever fuck bitch start cry confuse shit  \n",
            "3                                  look like tranny  \n",
            "4    shit hear might true might faker bitch tell ya  \n"
          ]
        }
      ],
      "source": [
        "\n",
        "df = pd.read_csv('processed_tweets.csv')"
      ]
    },
    {
      "cell_type": "code",
      "source": [
        "X_train, X_val, X_test, y_train, y_val, y_test = pipeline.get_train_test_data(df)"
      ],
      "metadata": {
        "id": "6cImLpex3QiJ"
      },
      "execution_count": 7,
      "outputs": []
    },
    {
      "cell_type": "code",
      "execution_count": null,
      "metadata": {
        "id": "7LYLPh3rnmpG"
      },
      "outputs": [],
      "source": [
        "model_experiment1, tokenizer = pipeline.get_model_tokenizer()"
      ]
    },
    {
      "cell_type": "code",
      "execution_count": null,
      "metadata": {
        "id": "cjszFiWoo5-k"
      },
      "outputs": [],
      "source": [
        "history_experiment1 = pipeline.train_model(\n",
        "    model_experiment1,\n",
        "    X_train, y_train,\n",
        "    X_val, y_val,\n",
        "    tokenizer,\n",
        "    epochs=100,\n",
        "    batch_size=16\n",
        ")"
      ]
    },
    {
      "cell_type": "code",
      "execution_count": null,
      "metadata": {
        "id": "GRDNZE8opEdN"
      },
      "outputs": [],
      "source": [
        "pipeline.plot_training_history(history_experiment1, model_name=\"DistilBERT-CNN-BiLSTM\")"
      ]
    },
    {
      "cell_type": "code",
      "execution_count": null,
      "metadata": {
        "id": "6TTMdMN4pH5N"
      },
      "outputs": [],
      "source": [
        "experiment1_results = pipeline.evaluate_model(model_experiment1, X_test, y_test, tokenizer, model_name=\"DistilBERT-CNN-BiLSTM\")"
      ]
    },
    {
      "cell_type": "code",
      "source": [
        "auc_score = pipeline.plot_multiclass_roc(model_experiment1, X_val, y_val, tokenizer, model_name=\"DistilBERT-CNN-BiLSTM\")\n"
      ],
      "metadata": {
        "id": "AC6hLli-zRDt"
      },
      "execution_count": null,
      "outputs": []
    },
    {
      "cell_type": "code",
      "source": [
        "#clear cache\n",
        "K.clear_session()\n",
        "gc.collect()\n",
        "torch.cuda.empty_cache()"
      ],
      "metadata": {
        "id": "FIgjQkjc1eKb"
      },
      "execution_count": null,
      "outputs": []
    },
    {
      "cell_type": "markdown",
      "source": [
        "# Experiment 2: Resampled"
      ],
      "metadata": {
        "id": "JT7XbkiKc6NS"
      }
    },
    {
      "cell_type": "code",
      "source": [],
      "metadata": {
        "id": "OOX3emQkJE-U"
      },
      "execution_count": null,
      "outputs": []
    },
    {
      "cell_type": "code",
      "source": [
        "df = pd.read_csv('processed_tweets.csv')\n",
        "X_train, X_val, X_test, y_train, y_val, y_test = pipeline.get_train_test_data(df)\n",
        "X_train, y_train = pipeline.get_resampled(X_train, y_train)"
      ],
      "metadata": {
        "id": "EF-LQyU6c6zW"
      },
      "execution_count": null,
      "outputs": []
    },
    {
      "cell_type": "code",
      "source": [
        "model_experiment2, tokenizer = pipeline.get_model_tokenizer()"
      ],
      "metadata": {
        "id": "u5foVJaAx1ja"
      },
      "execution_count": null,
      "outputs": []
    },
    {
      "cell_type": "code",
      "source": [
        "history_experiment2 = pipeline.train_model(\n",
        "    model_experiment2,\n",
        "    X_train, y_train,\n",
        "    X_val, y_val,\n",
        "    tokenizer,\n",
        "    epochs=100,\n",
        "    batch_size=16\n",
        ")"
      ],
      "metadata": {
        "id": "TG5va1lNx31V"
      },
      "execution_count": null,
      "outputs": []
    },
    {
      "cell_type": "code",
      "source": [
        "pipeline.plot_training_history(history_experiment2, model_name=\"DistilBERT-CNN-BiLSTM\")"
      ],
      "metadata": {
        "id": "XrhisTPpyJNa"
      },
      "execution_count": null,
      "outputs": []
    },
    {
      "cell_type": "code",
      "source": [
        "experiment2_results = pipeline.evaluate_model(model_experiment2, X_test, y_test, tokenizer, model_name=\"DistilBERT-CNN-BiLSTM, Resampled,\")"
      ],
      "metadata": {
        "id": "_C3BfCl1yKv7"
      },
      "execution_count": null,
      "outputs": []
    },
    {
      "cell_type": "code",
      "source": [
        "auc_score = pipeline.plot_multiclass_roc(model_experiment2, X_val, y_val, tokenizer, model_name=\"DistilBERT-CNN-BiLSTM, Resampled,\")"
      ],
      "metadata": {
        "id": "FjD46Fmd9rh-"
      },
      "execution_count": null,
      "outputs": []
    },
    {
      "cell_type": "code",
      "source": [
        "#clear cache\n",
        "K.clear_session()\n",
        "gc.collect()\n",
        "torch.cuda.empty_cache()"
      ],
      "metadata": {
        "id": "xNj1fe2Y1lxa"
      },
      "execution_count": null,
      "outputs": []
    },
    {
      "cell_type": "markdown",
      "source": [
        "# Experiment 3: Class Weights"
      ],
      "metadata": {
        "id": "_a0RzNzO1mQF"
      }
    },
    {
      "cell_type": "code",
      "source": [
        "df = pd.read_csv('processed_tweets.csv')\n",
        "X_train, X_val, X_test, y_train, y_val, y_test = pipeline.get_train_test_data(df)\n",
        "class_weights = pipeline.get_class_weights(y_train)"
      ],
      "metadata": {
        "id": "pNdNiEH_1nhF"
      },
      "execution_count": null,
      "outputs": []
    },
    {
      "cell_type": "code",
      "source": [
        "model_experiment3, tokenizer = pipeline.get_model_tokenizer()"
      ],
      "metadata": {
        "id": "3aiBHeKc6Byd"
      },
      "execution_count": null,
      "outputs": []
    },
    {
      "cell_type": "code",
      "source": [
        "history_experiment3 = pipeline.train_model(\n",
        "    model_experiment3,\n",
        "    X_train, y_train,\n",
        "    X_val, y_val,\n",
        "    tokenizer,\n",
        "    epochs=100,\n",
        "    batch_size=16,\n",
        "    class_weights=class_weights\n",
        ")"
      ],
      "metadata": {
        "id": "NcLpHjs96SI3"
      },
      "execution_count": null,
      "outputs": []
    },
    {
      "cell_type": "code",
      "source": [
        "pipeline.plot_training_history(history_experiment3, model_name=\"DistilBERT-CNN-BiLSTM, with Class Weights,\")"
      ],
      "metadata": {
        "id": "iwrm7zaF7rb_"
      },
      "execution_count": null,
      "outputs": []
    },
    {
      "cell_type": "code",
      "source": [
        "experiment3_results = pipeline.evaluate_model(model_experiment3, X_test, y_test, tokenizer, model_name=\"DistilBERT-CNN-BiLSTM, with Class Weights,\")"
      ],
      "metadata": {
        "id": "YRtoWSpw9tUl"
      },
      "execution_count": null,
      "outputs": []
    },
    {
      "cell_type": "code",
      "source": [
        "auc_score = pipeline.plot_multiclass_roc(model_experiment3, X_val, y_val, tokenizer, model_name=\"DistilBERT-CNN-BiLSTM, with Class Weights,\")"
      ],
      "metadata": {
        "id": "yLcnDlW89uxr"
      },
      "execution_count": null,
      "outputs": []
    },
    {
      "cell_type": "code",
      "source": [
        "#clear cache\n",
        "K.clear_session()\n",
        "gc.collect()\n",
        "torch.cuda.empty_cache()"
      ],
      "metadata": {
        "id": "J7fE1rud1n_i"
      },
      "execution_count": null,
      "outputs": []
    },
    {
      "cell_type": "markdown",
      "source": [
        "# Experiment 4: Resample + Class Weight"
      ],
      "metadata": {
        "id": "V2LndyPj1pm7"
      }
    },
    {
      "cell_type": "code",
      "source": [
        "df = pd.read_csv('processed_tweets.csv')\n",
        "X_train, X_val, X_test, y_train, y_val, y_test = pipeline.get_train_test_data(df)\n",
        "X_train, y_train = pipeline.get_resampled(X_train, y_train)\n",
        "class_weights = pipeline.get_class_weights(y_train)"
      ],
      "metadata": {
        "id": "1IbPVtLa1rRk"
      },
      "execution_count": null,
      "outputs": []
    },
    {
      "cell_type": "code",
      "source": [
        "model_experiment4, tokenizer = pipeline.get_model_tokenizer()"
      ],
      "metadata": {
        "id": "xBa4UUPb-wc3"
      },
      "execution_count": null,
      "outputs": []
    },
    {
      "cell_type": "code",
      "source": [
        "history_experiment4 = pipeline.train_model(\n",
        "    model_experiment4,\n",
        "    X_train, y_train,\n",
        "    X_val, y_val,\n",
        "    tokenizer,\n",
        "    epochs=100,\n",
        "    batch_size=16,\n",
        "    class_weights=class_weights\n",
        ")"
      ],
      "metadata": {
        "id": "y-LCwKaD-yp-"
      },
      "execution_count": null,
      "outputs": []
    },
    {
      "cell_type": "code",
      "source": [
        "pipeline.plot_training_history(history_experiment4, model_name=\"DistilBERT-CNN-BiLSTM, Resampled + Class Weights,\")"
      ],
      "metadata": {
        "id": "ZEthFmKH-1yu"
      },
      "execution_count": null,
      "outputs": []
    },
    {
      "cell_type": "code",
      "source": [
        "experiment4_results = pipeline.evaluate_model(model_experiment4, X_test, y_test, tokenizer, model_name=\"DistilBERT-CNN-BiLSTM, Resampled +  Class Weights,\")"
      ],
      "metadata": {
        "id": "cUZ8qj9--6Ge"
      },
      "execution_count": null,
      "outputs": []
    },
    {
      "cell_type": "code",
      "source": [
        "auc_score = pipeline.plot_multiclass_roc(model_experiment4, X_val, y_val, tokenizer, model_name=\"DistilBERT-CNN-BiLSTM, Resampled + Class Weights,\")"
      ],
      "metadata": {
        "id": "PettNH8dAaIJ"
      },
      "execution_count": null,
      "outputs": []
    },
    {
      "cell_type": "code",
      "source": [
        "#clear cache\n",
        "K.clear_session()\n",
        "gc.collect()\n",
        "torch.cuda.empty_cache()"
      ],
      "metadata": {
        "id": "kWhwAfa42E-Y"
      },
      "execution_count": null,
      "outputs": []
    },
    {
      "cell_type": "markdown",
      "source": [
        "# Experiment 5: Ablation Study (No preprocessing)"
      ],
      "metadata": {
        "id": "VNvwpAI61ygS"
      }
    },
    {
      "cell_type": "code",
      "source": [
        "df = pd.read_csv('processed_tweets.csv')\n",
        "X_train, X_val, X_test, y_train, y_val, y_test = pipeline.get_ablation_study_data(df)"
      ],
      "metadata": {
        "id": "4du_tM6Y11hD"
      },
      "execution_count": null,
      "outputs": []
    },
    {
      "cell_type": "code",
      "source": [
        "model_experiment5, tokenizer = pipeline.get_model_tokenizer()"
      ],
      "metadata": {
        "id": "TxdCWUqo_XrL"
      },
      "execution_count": null,
      "outputs": []
    },
    {
      "cell_type": "code",
      "source": [
        "history_experiment5 = pipeline.train_model(\n",
        "    model_experiment5,\n",
        "    X_train, y_train,\n",
        "    X_val, y_val,\n",
        "    tokenizer,\n",
        "    epochs=100,\n",
        "    batch_size=16,\n",
        ")"
      ],
      "metadata": {
        "id": "9En2PadVAGN7"
      },
      "execution_count": null,
      "outputs": []
    },
    {
      "cell_type": "code",
      "source": [
        "pipeline.plot_training_history(history_experiment5, model_name=\"DistilBERT-CNN-BiLSTM, Ablation Study,\")"
      ],
      "metadata": {
        "id": "w2z7YuHsAMKv"
      },
      "execution_count": null,
      "outputs": []
    },
    {
      "cell_type": "code",
      "source": [
        "experiment5_results = pipeline.evaluate_model(model_experiment5, X_test, y_test, tokenizer, model_name=\"DistilBERT-CNN-BiLSTM, Ablation Study,\")"
      ],
      "metadata": {
        "id": "v9w_fz2cAUSq"
      },
      "execution_count": null,
      "outputs": []
    },
    {
      "cell_type": "code",
      "source": [
        "auc_score = pipeline.plot_multiclass_roc(model_experiment5, X_val, y_val, tokenizer, model_name=\"DistilBERT-CNN-BiLSTM, Ablation Study,\")"
      ],
      "metadata": {
        "id": "39nxAbssAap9"
      },
      "execution_count": null,
      "outputs": []
    },
    {
      "cell_type": "code",
      "source": [
        "#clear cache\n",
        "K.clear_session()\n",
        "gc.collect()\n",
        "torch.cuda.empty_cache()"
      ],
      "metadata": {
        "id": "XYAuIRE82FYN"
      },
      "execution_count": null,
      "outputs": []
    }
  ],
  "metadata": {
    "colab": {
      "provenance": [],
      "toc_visible": true,
      "include_colab_link": true
    },
    "kernelspec": {
      "display_name": "Python 3",
      "name": "python3"
    },
    "language_info": {
      "name": "python"
    }
  },
  "nbformat": 4,
  "nbformat_minor": 0
}